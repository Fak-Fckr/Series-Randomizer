{
  "nbformat": 4,
  "nbformat_minor": 0,
  "metadata": {
    "colab": {
      "name": "Series Randomizer",
      "provenance": [],
      "collapsed_sections": []
    },
    "kernelspec": {
      "name": "python3",
      "display_name": "Python 3"
    },
    "language_info": {
      "name": "python"
    }
  },
  "cells": [
    {
      "cell_type": "code",
      "source": [
        ",#@title Series Randomizer\n",
        "Show = \" \" #@param [\" \", \"Avatar: The Last Airbender\", \"Big Mouth\", \"Bojack Horseman\", \"Courage the Cowardly Dog\", \"Ed, Edd n Eddy\", \"Rick and Morty\", \"South Park\", \"SpongeBob SquarePants\", \"The Tom and Jerry Show\", \"The Tom and Jerry Tales\"]\n",
        "\n",
        "import random\n",
        "from IPython.display import Javascript\n",
        "\n",
        "show_dict = {\" \": (((1, 10), (2, 10)), \"\"),\n",
        "             \"Avatar: The Last Airbender\" : (((1, 20), (2, 20), (3, 21)),\n",
        "                                             \"https://watchcartoononline.bz/episode/avatar-the-last-airbender-season-{}-episode-{}/\"),\n",
        "             \"Big Mouth\" : (((1, 10), (2, 10), (3, 11), (4, 10), (5, 10)),\n",
        "                            \"https://watchcartoononline.bz/episode/big-mouth-season-{}-episode-{}/\"),\n",
        "             \"Bojack Horseman\" : (((1, 12), (2, 12), (3, 12), (4, 12), (5, 12), (6, 16)),\n",
        "                                  \"https://watchcartoononline.bz/episode/bojack-horseman-season-{}-episode-{}/\"),\n",
        "             \"Courage the Cowardly Dog\" : (((1, 13), (2, 13), (3, 13), (4, 13)),\n",
        "                                           \"https://watchcartoononline.bz/episode/courage-the-cowardly-dog-season-{}-episode-{}/\"),\n",
        "             \"Ed, Edd n Eddy\" : (((1, 13), (2, 13), (3, 13), (4, 13), (5, 18)),\n",
        "                                 \"https://watchcartoononline.bz/episode/ed-edd-n-eddy-season-{}-episode-{}/\"),\n",
        "             \"Rick and Morty\" : (((1, 11), (2, 10), (3, 10), (4, 10), (5, 10)),\n",
        "                                 \"https://watchcartoononline.bz/episode/rick-and-morty-season-{}-episode-{}/\"),\n",
        "             \"South Park\" : (((1, 13), (2, 18), (3, 17), (4, 17), (5, 14), (6, 17),\n",
        "                              (7, 15), (8, 14), (9, 14), (10, 14), (11, 14), (12, 14),\n",
        "                              (13, 14), (14, 14), (15, 14), (16, 14), (17, 10),\n",
        "                              (18, 10), (19, 10), (20, 10), (21, 10), (22, 10),\n",
        "                              (23, 10), (24, 2), (25, 6)),\n",
        "                             \"https://watchcartoononline.bz/episode/south-park-season-{}-episode-{}/\"),\n",
        "             \"SpongeBob SquarePants\" : (((1, 20), (2, 20), (3, 20), (4, 20), (5, 20),\n",
        "                                         (6, 26), (7, 26), (8, 26), (9, 26), (10, 11),\n",
        "                                         (11, 26)),\n",
        "                                        \"https://watchcartoononline.bz/episode/spongebob-squarepants-season-{}-episode-{}/\"),\n",
        "             \"The Tom and Jerry Show\" : (((1, 26), (2, 26), (3, 26), (4, 26), (5, 13)),\n",
        "                                         \"https://watchcartoononline.bz/episode/the-tom-and-jerry-show-season-{}-episode-{}/\"),\n",
        "             \"The Tom and Jerry Tales\" : (((1, 13), (2, 13)),\n",
        "                                          \"https://watchcartoononline.bz/episode/tom-and-jerry-tales-season-{}-episode-{}/\")}\n",
        "\n",
        "create_select_list, show_url = show_dict[Show]\n",
        "select_list = sum([[(el[0], ep) for ep in range(1, el[1]+1)] for el in create_select_list], [])\n",
        "s_no, e_no = random.choice(select_list)\n",
        "e_no = \"00\" if (Show, s_no, e_no) == (\"South Park\", 24, 1) else (\"1\" if (Show, s_no, e_no) == (\"South Park\", 24, 2) else e_no)\n",
        "link = show_url.format(s_no, e_no)\n",
        "print(link)\n",
        "if Show != \" \": display(Javascript('window.open(\"{url}\");'.format(url=link)))"
      ],
      "metadata": {
        "id": "x2tbjxP9JhcK"
      },
      "execution_count": null,
      "outputs": []
    }
  ]
}